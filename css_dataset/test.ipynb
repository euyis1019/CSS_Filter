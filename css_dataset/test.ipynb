{
 "cells": [
  {
   "cell_type": "code",
   "execution_count": 1,
   "metadata": {},
   "outputs": [
    {
     "name": "stderr",
     "output_type": "stream",
     "text": [
      "/root/miniconda3/envs/recognize-anything/lib/python3.8/site-packages/fairscale/experimental/nn/offload.py:19: FutureWarning: `torch.cuda.amp.custom_fwd(args...)` is deprecated. Please use `torch.amp.custom_fwd(args..., device_type='cuda')` instead.\n",
      "  return torch.cuda.amp.custom_fwd(orig_func)  # type: ignore\n",
      "/root/miniconda3/envs/recognize-anything/lib/python3.8/site-packages/fairscale/experimental/nn/offload.py:30: FutureWarning: `torch.cuda.amp.custom_bwd(args...)` is deprecated. Please use `torch.amp.custom_bwd(args..., device_type='cuda')` instead.\n",
      "  return torch.cuda.amp.custom_bwd(orig_func)  # type: ignore\n",
      "usage: ipykernel_launcher.py [-h] [--pretrained DIR] [--image-size N]\n",
      "ipykernel_launcher.py: error: unrecognized arguments: --f=/root/.local/share/jupyter/runtime/kernel-v2-9547cAcTKMI1L44z.json\n"
     ]
    },
    {
     "ename": "SystemExit",
     "evalue": "2",
     "output_type": "error",
     "traceback": [
      "An exception has occurred, use %tb to see the full traceback.\n",
      "\u001B[0;31mSystemExit\u001B[0m\u001B[0;31m:\u001B[0m 2\n"
     ]
    }
   ],
   "source": [
    "import argparse\n",
    "import os\n",
    "import torch\n",
    "from torch.optim import Adam\n",
    "from ram.models import ram_plus_gyf\n",
    "from ram import get_transform\n",
    "from tqdm import tqdm\n",
    "root = '/root/autodl-tmp/when-SAM-meets-Continual-Learning/data/VOC2012'\n",
    "# 命令行参数\n",
    "parser = argparse.ArgumentParser(description='Tag2Text Training')\n",
    "parser.add_argument('--pretrained', metavar='DIR', help='path to pretrained model', default='/root/autodl-tmp/recognize-anything/pretrained/ram_plus_swin_large_14m.pth')\n",
    "parser.add_argument('--image-size', default=384, type=int, metavar='N', help='input image size (default: 448)')\n",
    "args = parser.parse_args()\n",
    "\n",
    "device = torch.device('cuda' if torch.cuda.is_available() else 'cpu')\n",
    "classes =['aeroplane', 'bicycle', 'bird', 'boat', 'bottle', 'bus', 'car', 'cat', 'chair', 'cow', 'dining table', 'dog', 'horse', 'motorbike', 'person', 'potted plant', 'sheep', 'sofa', 'train', 'tv monitor']\n",
    "\n",
    "# 转换\n",
    "transform = get_transform(image_size=args.image_size)\n",
    " \n",
    "\n",
    "# 加载模型\n",
    "model = ram_plus_gyf(pretrained=args.pretrained, image_size=args.image_size, vit='swin_l',classes=classes)\n",
    "#self.fc_voc = torch.nn.Linear(4586, 20)  # \n",
    "model.to(device)\n",
    "\n"
   ]
  },
  {
   "cell_type": "code",
   "execution_count": null,
   "metadata": {},
   "outputs": [],
   "source": []
  },
  {
   "cell_type": "code",
   "execution_count": null,
   "metadata": {},
   "outputs": [],
   "source": [
    "from css_dataset.create_dataset import load_dataset_from_config\n",
    "from utils import get_dataset_config\n",
    "from CSS_Filter.css_dataset.dataset import Dataloader\n",
    "\n",
    "config = get_dataset_config(\"VOC\")\n",
    "classes_dict = config.dataset_setting.classes\n",
    "print(config)\n",
    "user_input = input('If you have already configured \"config/dataset/saved_task_txt/.....\", Input yes: ')\n",
    "if user_input.lower() == 'yes':\n",
    "    config.increment_setting.save_stage_image_path = \"default\"\n",
    "else:\n",
    "    print(\"Configuration not found. Reconfig\")\n",
    "dataset = load_dataset_from_config(config,1,None)\n",
    "\n",
    "dataloader = Dataloader(dataset,batch_size=8)\n",
    "i=0\n",
    "for img,label,text_prompt,label_prompt in dataloader:\n",
    "    i+=1\n",
    "    print(\"text\", text_prompt)\n",
    "    print(\"label\", label_prompt)\n",
    "    label_formatted = [[item for item in label_str.split('.') if item] for label_str in label_prompt]  # 去掉空项    print(\"label\", label_formatted)  # 打印转换后的label\n",
    "    print(\"labelformatted\", label_formatted)\n",
    "    if i >= 5:\n",
    "        print(\"Update\")\n",
    "        dataset.update_stage(1)"
   ]
  },
  {
   "cell_type": "code",
   "execution_count": null,
   "metadata": {},
   "outputs": [],
   "source": [
    "for name, param in model.named_parameters():\n",
    "    # 打印看下所有参数的名字，确认下层级结构\n",
    "    print(name)\n",
    "\n",
    "    # 只解冻fc_voc内的参数，其余冻结\n",
    "    if 'fc_voc' in name:\n",
    "        param.requires_grad = True\n",
    "    else:\n",
    "        param.requires_grad = False\n",
    "# 优化器\n",
    "optimizer = Adam(filter(lambda p: p.requires_grad, model.parameters()), lr=1e-4)\n",
    "\n",
    "# 损失函数\n",
    "criterion = torch.nn.BCEWithLogitsLoss()\n",
    "\n",
    "model_save_directory = '/root/autodl-tmp/recognize-anything/saved_models'\n",
    "os.makedirs(model_save_directory, exist_ok=True)\n",
    "\n",
    "# Create the directory if it does not exist\n",
    "# Initialize variable to track the best loss\n",
    "best_loss = float('inf')\n",
    "\n",
    "model.train()\n",
    "for epoch in range(30):  # Train for 10 epochs\n",
    "    total_loss = 0\n",
    "    for images, labels in tqdm(dataloader, desc=f'Epoch {epoch+1}'):\n",
    "        images, labels = images.to(device), labels.to(device)\n",
    "        outputs = model.forward_voc(images)\n",
    "        loss = criterion(outputs, labels)\n",
    "\n",
    "        optimizer.zero_grad()\n",
    "        loss.backward()\n",
    "        optimizer.step()\n",
    "\n",
    "        total_loss += loss.item()\n",
    "\n",
    "    average_loss = total_loss / len(dataloader)\n",
    "    print(f'Epoch {epoch+1}, Loss: {average_loss}')\n",
    "\n",
    "    # Save the model if the current epoch's loss is the best so far\n",
    "    if average_loss < best_loss:\n",
    "        best_loss = average_loss\n",
    "        save_path = '/root/autodl-tmp/recognize-anything/saved_models/best_model_CLS_fcn.pth'\n",
    "        torch.save({\n",
    "            'epoch': epoch+1,\n",
    "            'model_state_dict': model.state_dict(),\n",
    "            'optimizer_state_dict': optimizer.state_dict(),\n",
    "            'loss': average_loss,\n",
    "        }, save_path)\n",
    "        print(f\"Saved new best model with loss: {average_loss}\")"
   ]
  }
 ],
 "metadata": {
  "kernelspec": {
   "display_name": "recognize-anything",
   "language": "python",
   "name": "python3"
  },
  "language_info": {
   "codemirror_mode": {
    "name": "ipython",
    "version": 3
   },
   "file_extension": ".py",
   "mimetype": "text/x-python",
   "name": "python",
   "nbconvert_exporter": "python",
   "pygments_lexer": "ipython3",
   "version": "3.8.19"
  }
 },
 "nbformat": 4,
 "nbformat_minor": 2
}
